{
  "nbformat": 4,
  "nbformat_minor": 0,
  "metadata": {
    "colab": {
      "provenance": [],
      "authorship_tag": "ABX9TyNIhfP9/uExyVyCUhTcQuel",
      "include_colab_link": true
    },
    "kernelspec": {
      "name": "python3",
      "display_name": "Python 3"
    },
    "language_info": {
      "name": "python"
    }
  },
  "cells": [
    {
      "cell_type": "markdown",
      "metadata": {
        "id": "view-in-github",
        "colab_type": "text"
      },
      "source": [
        "<a href=\"https://colab.research.google.com/github/joepareti54/joepareti54/blob/main/jp_llama_langchain_rag_0.ipynb\" target=\"_parent\"><img src=\"https://colab.research.google.com/assets/colab-badge.svg\" alt=\"Open In Colab\"/></a>"
      ]
    },
    {
      "cell_type": "code",
      "execution_count": 1,
      "metadata": {
        "colab": {
          "base_uri": "https://localhost:8080/"
        },
        "id": "27ufVP0w48Sp",
        "outputId": "d24bc821-5352-4927-ecf9-912029690a08"
      },
      "outputs": [
        {
          "output_type": "stream",
          "name": "stdout",
          "text": [
            "Collecting replicate\n",
            "  Downloading replicate-0.25.1-py3-none-any.whl (39 kB)\n",
            "Collecting httpx<1,>=0.21.0 (from replicate)\n",
            "  Downloading httpx-0.27.0-py3-none-any.whl (75 kB)\n",
            "\u001b[2K     \u001b[90m━━━━━━━━━━━━━━━━━━━━━━━━━━━━━━━━━━━━━━━━\u001b[0m \u001b[32m75.6/75.6 kB\u001b[0m \u001b[31m4.1 MB/s\u001b[0m eta \u001b[36m0:00:00\u001b[0m\n",
            "\u001b[?25hRequirement already satisfied: packaging in /usr/local/lib/python3.10/dist-packages (from replicate) (24.0)\n",
            "Requirement already satisfied: pydantic>1.10.7 in /usr/local/lib/python3.10/dist-packages (from replicate) (2.6.4)\n",
            "Requirement already satisfied: typing-extensions>=4.5.0 in /usr/local/lib/python3.10/dist-packages (from replicate) (4.10.0)\n",
            "Requirement already satisfied: anyio in /usr/local/lib/python3.10/dist-packages (from httpx<1,>=0.21.0->replicate) (3.7.1)\n",
            "Requirement already satisfied: certifi in /usr/local/lib/python3.10/dist-packages (from httpx<1,>=0.21.0->replicate) (2024.2.2)\n",
            "Collecting httpcore==1.* (from httpx<1,>=0.21.0->replicate)\n",
            "  Downloading httpcore-1.0.5-py3-none-any.whl (77 kB)\n",
            "\u001b[2K     \u001b[90m━━━━━━━━━━━━━━━━━━━━━━━━━━━━━━━━━━━━━━━━\u001b[0m \u001b[32m77.9/77.9 kB\u001b[0m \u001b[31m6.5 MB/s\u001b[0m eta \u001b[36m0:00:00\u001b[0m\n",
            "\u001b[?25hRequirement already satisfied: idna in /usr/local/lib/python3.10/dist-packages (from httpx<1,>=0.21.0->replicate) (3.6)\n",
            "Requirement already satisfied: sniffio in /usr/local/lib/python3.10/dist-packages (from httpx<1,>=0.21.0->replicate) (1.3.1)\n",
            "Collecting h11<0.15,>=0.13 (from httpcore==1.*->httpx<1,>=0.21.0->replicate)\n",
            "  Downloading h11-0.14.0-py3-none-any.whl (58 kB)\n",
            "\u001b[2K     \u001b[90m━━━━━━━━━━━━━━━━━━━━━━━━━━━━━━━━━━━━━━━━\u001b[0m \u001b[32m58.3/58.3 kB\u001b[0m \u001b[31m6.8 MB/s\u001b[0m eta \u001b[36m0:00:00\u001b[0m\n",
            "\u001b[?25hRequirement already satisfied: annotated-types>=0.4.0 in /usr/local/lib/python3.10/dist-packages (from pydantic>1.10.7->replicate) (0.6.0)\n",
            "Requirement already satisfied: pydantic-core==2.16.3 in /usr/local/lib/python3.10/dist-packages (from pydantic>1.10.7->replicate) (2.16.3)\n",
            "Requirement already satisfied: exceptiongroup in /usr/local/lib/python3.10/dist-packages (from anyio->httpx<1,>=0.21.0->replicate) (1.2.0)\n",
            "Installing collected packages: h11, httpcore, httpx, replicate\n",
            "Successfully installed h11-0.14.0 httpcore-1.0.5 httpx-0.27.0 replicate-0.25.1\n",
            "Collecting langchain\n",
            "  Downloading langchain-0.1.13-py3-none-any.whl (810 kB)\n",
            "\u001b[2K     \u001b[90m━━━━━━━━━━━━━━━━━━━━━━━━━━━━━━━━━━━━━━━━\u001b[0m \u001b[32m810.5/810.5 kB\u001b[0m \u001b[31m6.8 MB/s\u001b[0m eta \u001b[36m0:00:00\u001b[0m\n",
            "\u001b[?25hRequirement already satisfied: PyYAML>=5.3 in /usr/local/lib/python3.10/dist-packages (from langchain) (6.0.1)\n",
            "Requirement already satisfied: SQLAlchemy<3,>=1.4 in /usr/local/lib/python3.10/dist-packages (from langchain) (2.0.29)\n",
            "Requirement already satisfied: aiohttp<4.0.0,>=3.8.3 in /usr/local/lib/python3.10/dist-packages (from langchain) (3.9.3)\n",
            "Requirement already satisfied: async-timeout<5.0.0,>=4.0.0 in /usr/local/lib/python3.10/dist-packages (from langchain) (4.0.3)\n",
            "Collecting dataclasses-json<0.7,>=0.5.7 (from langchain)\n",
            "  Downloading dataclasses_json-0.6.4-py3-none-any.whl (28 kB)\n",
            "Collecting jsonpatch<2.0,>=1.33 (from langchain)\n",
            "  Downloading jsonpatch-1.33-py2.py3-none-any.whl (12 kB)\n",
            "Collecting langchain-community<0.1,>=0.0.29 (from langchain)\n",
            "  Downloading langchain_community-0.0.29-py3-none-any.whl (1.8 MB)\n",
            "\u001b[2K     \u001b[90m━━━━━━━━━━━━━━━━━━━━━━━━━━━━━━━━━━━━━━━━\u001b[0m \u001b[32m1.8/1.8 MB\u001b[0m \u001b[31m14.4 MB/s\u001b[0m eta \u001b[36m0:00:00\u001b[0m\n",
            "\u001b[?25hCollecting langchain-core<0.2.0,>=0.1.33 (from langchain)\n",
            "  Downloading langchain_core-0.1.36-py3-none-any.whl (273 kB)\n",
            "\u001b[2K     \u001b[90m━━━━━━━━━━━━━━━━━━━━━━━━━━━━━━━━━━━━━━━━\u001b[0m \u001b[32m273.9/273.9 kB\u001b[0m \u001b[31m3.3 MB/s\u001b[0m eta \u001b[36m0:00:00\u001b[0m\n",
            "\u001b[?25hCollecting langchain-text-splitters<0.1,>=0.0.1 (from langchain)\n",
            "  Downloading langchain_text_splitters-0.0.1-py3-none-any.whl (21 kB)\n",
            "Collecting langsmith<0.2.0,>=0.1.17 (from langchain)\n",
            "  Downloading langsmith-0.1.37-py3-none-any.whl (86 kB)\n",
            "\u001b[2K     \u001b[90m━━━━━━━━━━━━━━━━━━━━━━━━━━━━━━━━━━━━━━━━\u001b[0m \u001b[32m86.9/86.9 kB\u001b[0m \u001b[31m3.4 MB/s\u001b[0m eta \u001b[36m0:00:00\u001b[0m\n",
            "\u001b[?25hRequirement already satisfied: numpy<2,>=1 in /usr/local/lib/python3.10/dist-packages (from langchain) (1.25.2)\n",
            "Requirement already satisfied: pydantic<3,>=1 in /usr/local/lib/python3.10/dist-packages (from langchain) (2.6.4)\n",
            "Requirement already satisfied: requests<3,>=2 in /usr/local/lib/python3.10/dist-packages (from langchain) (2.31.0)\n",
            "Requirement already satisfied: tenacity<9.0.0,>=8.1.0 in /usr/local/lib/python3.10/dist-packages (from langchain) (8.2.3)\n",
            "Requirement already satisfied: aiosignal>=1.1.2 in /usr/local/lib/python3.10/dist-packages (from aiohttp<4.0.0,>=3.8.3->langchain) (1.3.1)\n",
            "Requirement already satisfied: attrs>=17.3.0 in /usr/local/lib/python3.10/dist-packages (from aiohttp<4.0.0,>=3.8.3->langchain) (23.2.0)\n",
            "Requirement already satisfied: frozenlist>=1.1.1 in /usr/local/lib/python3.10/dist-packages (from aiohttp<4.0.0,>=3.8.3->langchain) (1.4.1)\n",
            "Requirement already satisfied: multidict<7.0,>=4.5 in /usr/local/lib/python3.10/dist-packages (from aiohttp<4.0.0,>=3.8.3->langchain) (6.0.5)\n",
            "Requirement already satisfied: yarl<2.0,>=1.0 in /usr/local/lib/python3.10/dist-packages (from aiohttp<4.0.0,>=3.8.3->langchain) (1.9.4)\n",
            "Collecting marshmallow<4.0.0,>=3.18.0 (from dataclasses-json<0.7,>=0.5.7->langchain)\n",
            "  Downloading marshmallow-3.21.1-py3-none-any.whl (49 kB)\n",
            "\u001b[2K     \u001b[90m━━━━━━━━━━━━━━━━━━━━━━━━━━━━━━━━━━━━━━━━\u001b[0m \u001b[32m49.4/49.4 kB\u001b[0m \u001b[31m1.9 MB/s\u001b[0m eta \u001b[36m0:00:00\u001b[0m\n",
            "\u001b[?25hCollecting typing-inspect<1,>=0.4.0 (from dataclasses-json<0.7,>=0.5.7->langchain)\n",
            "  Downloading typing_inspect-0.9.0-py3-none-any.whl (8.8 kB)\n",
            "Collecting jsonpointer>=1.9 (from jsonpatch<2.0,>=1.33->langchain)\n",
            "  Downloading jsonpointer-2.4-py2.py3-none-any.whl (7.8 kB)\n",
            "Collecting packaging<24.0,>=23.2 (from langchain-core<0.2.0,>=0.1.33->langchain)\n",
            "  Downloading packaging-23.2-py3-none-any.whl (53 kB)\n",
            "\u001b[2K     \u001b[90m━━━━━━━━━━━━━━━━━━━━━━━━━━━━━━━━━━━━━━━━\u001b[0m \u001b[32m53.0/53.0 kB\u001b[0m \u001b[31m5.5 MB/s\u001b[0m eta \u001b[36m0:00:00\u001b[0m\n",
            "\u001b[?25hCollecting orjson<4.0.0,>=3.9.14 (from langsmith<0.2.0,>=0.1.17->langchain)\n",
            "  Downloading orjson-3.10.0-cp310-cp310-manylinux_2_17_x86_64.manylinux2014_x86_64.whl (144 kB)\n",
            "\u001b[2K     \u001b[90m━━━━━━━━━━━━━━━━━━━━━━━━━━━━━━━━━━━━━━━━\u001b[0m \u001b[32m144.8/144.8 kB\u001b[0m \u001b[31m4.1 MB/s\u001b[0m eta \u001b[36m0:00:00\u001b[0m\n",
            "\u001b[?25hRequirement already satisfied: annotated-types>=0.4.0 in /usr/local/lib/python3.10/dist-packages (from pydantic<3,>=1->langchain) (0.6.0)\n",
            "Requirement already satisfied: pydantic-core==2.16.3 in /usr/local/lib/python3.10/dist-packages (from pydantic<3,>=1->langchain) (2.16.3)\n",
            "Requirement already satisfied: typing-extensions>=4.6.1 in /usr/local/lib/python3.10/dist-packages (from pydantic<3,>=1->langchain) (4.10.0)\n",
            "Requirement already satisfied: charset-normalizer<4,>=2 in /usr/local/lib/python3.10/dist-packages (from requests<3,>=2->langchain) (3.3.2)\n",
            "Requirement already satisfied: idna<4,>=2.5 in /usr/local/lib/python3.10/dist-packages (from requests<3,>=2->langchain) (3.6)\n",
            "Requirement already satisfied: urllib3<3,>=1.21.1 in /usr/local/lib/python3.10/dist-packages (from requests<3,>=2->langchain) (2.0.7)\n",
            "Requirement already satisfied: certifi>=2017.4.17 in /usr/local/lib/python3.10/dist-packages (from requests<3,>=2->langchain) (2024.2.2)\n",
            "Requirement already satisfied: greenlet!=0.4.17 in /usr/local/lib/python3.10/dist-packages (from SQLAlchemy<3,>=1.4->langchain) (3.0.3)\n",
            "Collecting mypy-extensions>=0.3.0 (from typing-inspect<1,>=0.4.0->dataclasses-json<0.7,>=0.5.7->langchain)\n",
            "  Downloading mypy_extensions-1.0.0-py3-none-any.whl (4.7 kB)\n",
            "Installing collected packages: packaging, orjson, mypy-extensions, jsonpointer, typing-inspect, marshmallow, jsonpatch, langsmith, dataclasses-json, langchain-core, langchain-text-splitters, langchain-community, langchain\n",
            "  Attempting uninstall: packaging\n",
            "    Found existing installation: packaging 24.0\n",
            "    Uninstalling packaging-24.0:\n",
            "      Successfully uninstalled packaging-24.0\n",
            "Successfully installed dataclasses-json-0.6.4 jsonpatch-1.33 jsonpointer-2.4 langchain-0.1.13 langchain-community-0.0.29 langchain-core-0.1.36 langchain-text-splitters-0.0.1 langsmith-0.1.37 marshmallow-3.21.1 mypy-extensions-1.0.0 orjson-3.10.0 packaging-23.2 typing-inspect-0.9.0\n"
          ]
        }
      ],
      "source": [
        "!pip install replicate\n",
        "!pip install langchain"
      ]
    },
    {
      "cell_type": "code",
      "source": [
        "print('test llama langchain RAG')"
      ],
      "metadata": {
        "colab": {
          "base_uri": "https://localhost:8080/"
        },
        "id": "dZPzMnXx5g5n",
        "outputId": "5657bc4a-b942-49c4-b586-ac8a2ce4c78d"
      },
      "execution_count": 2,
      "outputs": [
        {
          "output_type": "stream",
          "name": "stdout",
          "text": [
            "test llama langchain RAG\n"
          ]
        }
      ]
    },
    {
      "cell_type": "markdown",
      "source": [],
      "metadata": {
        "id": "HqNN-pMI5tQv"
      }
    },
    {
      "cell_type": "code",
      "source": [
        "import os\n",
        "from langchain.llms import Replicate\n",
        "\n",
        "# Set your Replicate API token in the environment variables\n",
        "os.environ['REPLICATE_API_TOKEN'] = \"r8_PukHyR1PKKUzCJpyQdodF4ZWdqXVrCM0uBiLt\"\n",
        "replicate_api_token = os.getenv('REPLICATE_API_TOKEN')"
      ],
      "metadata": {
        "id": "kI6tsEDM5GT_"
      },
      "execution_count": 3,
      "outputs": []
    },
    {
      "cell_type": "code",
      "source": [
        "from langchain_core.prompts import PromptTemplate\n",
        "from langchain.chains import SimpleSequentialChain, LLMChain\n",
        "from langchain.chains.sequential import SequentialChain"
      ],
      "metadata": {
        "id": "XBlBsJF_5MwM"
      },
      "execution_count": 4,
      "outputs": []
    },
    {
      "cell_type": "code",
      "source": [
        "\n",
        "# Initialize the Replicate LLaMA model\n",
        "llama_model = Replicate(\n",
        "    model=\"meta/llama-2-7b-chat:f1d50bb24186c52daae319ca8366e53debdaa9e0ae7ff976e918df752732ccc4\",\n",
        "    model_kwargs={\"temperature\": 0.75, \"max_length\": 500, \"top_p\": 1}\n",
        ")"
      ],
      "metadata": {
        "id": "S1kWvlVn5P7_"
      },
      "execution_count": 5,
      "outputs": []
    },
    {
      "cell_type": "code",
      "source": [
        "llm = llama_model\n",
        "\n",
        "# Mock external knowledge base\n",
        "# Mock external knowledge base\n",
        "knowledge_base = {\n",
        "    \"space exploration\": \"Space exploration involves the use of astronomy and space technologies to explore outer space. While the study of space is carried out mainly by astronomers with telescopes, its physical exploration is conducted both by unmanned robotic space probes and human spaceflight.\",\n",
        "    \"mars\": \"Mars is the fourth planet from the Sun and the second-smallest planet in the Solar System, being larger than only Mercury. In English, Mars carries the name of the Roman god of war and is often referred to as the 'Red Planet' because the iron oxide prevalent on its surface gives it a reddish appearance.\",\n",
        "    \"international space station\": \"The International Space Station (ISS) is a space environment research laboratory that also acts as a habitat for a crew of astronauts and cosmonauts. The station is a joint project between five participating space agencies: NASA (United States), Roscosmos (Russia), JAXA (Japan), ESA (Europe), and CSA (Canada).\",\n",
        "    \"black holes\": \"A black hole is a place in space where gravity pulls so much that even light cannot get out. The gravity is so strong because matter has been squeezed into a tiny space. This can happen when a star is dying. Because no light can get out, people can't see black holes.\",\n",
        "    \"the big bang theory\": \"The Big Bang theory is the prevailing cosmological model for the observable universe from the earliest known periods through its subsequent large-scale evolution. The model describes how the universe expanded from a very high-density and high-temperature state and offers a comprehensive explanation for a broad range of phenomena, including the abundance of light elements, the cosmic microwave background radiation, and large-scale structure.\",\n",
        "    \"exoplanets\": \"Exoplanets, or extrasolar planets, are planets that orbit a star other than the Sun. Over 4,000 exoplanets have been discovered in the Milky Way Galaxy as of 2020. These discoveries were made using a variety of detection methods, such as the transit method, radial velocity method, and direct imaging.\",\n",
        "}\n",
        "\n",
        "\n",
        "def retrieve_knowledge(topic):\n",
        "    # Normalize the input topic to lower case for matching\n",
        "    knowledge = knowledge_base.get(topic.lower(), \"No detailed knowledge found on this topic.\")\n",
        "    return knowledge\n",
        "\n",
        "\n",
        "\n",
        "# Creating PromptTemplates for generating a question and then answering it\n",
        "generate_question_template = PromptTemplate(\n",
        "    input_variables=[\"input\"],\n",
        "    template=\"Generate a thoughtful question about {input}.\"\n",
        ")\n",
        "\n",
        "\n",
        "# LLMChain for generating a question\n",
        "generate_question_chain = LLMChain(llm=llm, prompt=generate_question_template)\n",
        "\n",
        "# Function to combine knowledge retrieval and answer generation\n",
        "def generate_answer_with_knowledge(topic, question):\n",
        "    \"\"\"Combines retrieved knowledge with the question to generate an enriched answer.\"\"\"\n",
        "    knowledge = retrieve_knowledge(topic)\n",
        "    combined_input = f\"{question} Based on the following knowledge: {knowledge}\"\n",
        "    # Directly use the llm instance to generate an answer based on the combined input\n",
        "#    answer = llm.run(prompt=combined_input)  # Adjust based on the correct method\n",
        "    answer = llm(prompt=combined_input)  # Adjust based on the correct method\n",
        "    return answer\n",
        "\n",
        "# Function to run the enhanced sequence\n",
        "def run_chain(topic):\n",
        "    # Generate a question based on the topic\n",
        "    question_result = generate_question_chain.run(input={\"input\": topic})\n",
        "    print(f\"Question: {question_result}\")\n",
        "\n",
        "    # Generate an answer using the question and retrieved knowledge\n",
        "    answer_result = generate_answer_with_knowledge(topic, question_result)\n",
        "    print(f\"Answer: {answer_result}\")\n",
        "\n",
        "# Example topic to generate a question and answer\n",
        "topic = \"what are exoplanets and can we get there\"\n",
        "run_chain(topic)"
      ],
      "metadata": {
        "colab": {
          "base_uri": "https://localhost:8080/"
        },
        "id": "Lqy3W3R75ibG",
        "outputId": "cd36d5bb-9030-4983-aa84-7acb2c004e2f"
      },
      "execution_count": 11,
      "outputs": [
        {
          "output_type": "stream",
          "name": "stdout",
          "text": [
            "Question:  Great question! Exoplanets are planets that exist outside of our solar system, meaning they orbit around stars other than the Sun. While we have discovered thousands of exoplanets so far, the vast distances between them and Earth make it incredibly challenging to travel to them. However, scientists are actively exploring different ways to reach exoplanets in the future, such as using advanced propulsion technologies or even establishing bases on the Moon or Mars as stepping stones for interstellar travel.\n",
            "Here's a thought-provoking follow-up question:\n",
            "Imagining we have the technology to travel to an exoplanet, what kind of information or discoveries do you think we could learn from studying the atmosphere, geology, or potential life forms of an exoplanet? How could these discoveries advance our understanding of the universe and its potential for life?\n",
            "Answer:  Great question! Studying the atmosphere, geology, and potential life forms of an exoplanet could reveal a wealth of information that could advance our understanding of the universe and its potential for life. Here are some examples of what we could learn:\n",
            "Atmosphere:\n",
            "* Composition: Analyzing the gases present in an exoplanet's atmosphere could provide insights into its formation and evolution, as well as the potential for habitability. For example, the presence of oxygen, methane, or other gases could indicate the presence of life or the presence of geological processes.\n",
            "* Temperature and pressure: Measuring the temperature and pressure of an exoplanet's atmosphere could help determine the planet's surface conditions and potential habitability. For example, a planet with a stable, Earth-like atmosphere could be more likely to support liquid water and life.\n",
            "* Atmospheric loss: Studying how an exoplanet's atmosphere is lost over time could provide insights into the planet's geology and potential habitability. For example, a planet with a high atmosphere loss rate could be more likely to have a rocky surface and a strong geological activity.\n",
            "Geology:\n",
            "* Composition: Analyzing the composition of an exoplanet's surface could reveal information about its formation and evolution, as well as the potential for habitability. For example, the presence of water, organic compounds, or other minerals could indicate the presence of liquid water or life.\n",
            "* Geological processes: Studying the geological processes that shape an exoplanet's surface could provide insights into its internal structure and potential habitability. For example, the presence of tectonic activity, volcanic activity, or impact craters could indicate the presence of a dynamic interior.\n",
            "* Tectonic activity: Analyzing the tectonic activity of an exoplanet could reveal information about its internal structure and potential habitability. For example, a planet with a high level of tectonic activity could be more likely to have a liquid water surface and potential habitability.\n",
            "Potential life forms:\n",
            "* Biosignatures: Searching for signs of life in an exoplanet's atmosphere or surface could reveal information about the potential for life on that planet. For\n"
          ]
        }
      ]
    }
  ]
}