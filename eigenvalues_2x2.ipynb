{
  "nbformat": 4,
  "nbformat_minor": 0,
  "metadata": {
    "colab": {
      "provenance": [],
      "authorship_tag": "ABX9TyNSr7E6jVhMlQEJ5QjdUCmC",
      "include_colab_link": true
    },
    "kernelspec": {
      "name": "python3",
      "display_name": "Python 3"
    },
    "language_info": {
      "name": "python"
    }
  },
  "cells": [
    {
      "cell_type": "markdown",
      "metadata": {
        "id": "view-in-github",
        "colab_type": "text"
      },
      "source": [
        "<a href=\"https://colab.research.google.com/github/joepareti54/joepareti54/blob/main/eigenvalues_2x2.ipynb\" target=\"_parent\"><img src=\"https://colab.research.google.com/assets/colab-badge.svg\" alt=\"Open In Colab\"/></a>"
      ]
    },
    {
      "cell_type": "code",
      "execution_count": null,
      "metadata": {
        "id": "kL5B1oRQxAzN",
        "outputId": "a1f1d770-24dd-4e56-86e1-945b47eadbc0",
        "colab": {
          "base_uri": "https://localhost:8080/"
        }
      },
      "outputs": [
        {
          "output_type": "stream",
          "name": "stdout",
          "text": [
            "Eigenvalues: [5. 2.]\n"
          ]
        }
      ],
      "source": [
        "import numpy as np\n",
        "\n",
        "def calculate_eigenvalues(matrix):\n",
        "    \"\"\"\n",
        "    Calculate the eigenvalues of a 2x2 matrix.\n",
        "\n",
        "    Parameters:\n",
        "    matrix (np.array): A 2x2 numpy array representing the matrix.\n",
        "\n",
        "    Returns:\n",
        "    eigenvalues (np.array): An array containing the eigenvalues.\n",
        "    \"\"\"\n",
        "    # Ensure the matrix is a NumPy array\n",
        "    matrix = np.array(matrix)\n",
        "\n",
        "    # Validate the matrix dimensions\n",
        "    if matrix.shape != (2, 2):\n",
        "        raise ValueError(\"Matrix must be 2x2.\")\n",
        "\n",
        "    # Calculate and return the eigenvalues\n",
        "    eigenvalues = np.linalg.eigvals(matrix)\n",
        "    return eigenvalues\n",
        "\n",
        "# Example usage\n",
        "matrix = [[4, 2], [1, 3]]\n",
        "eigenvalues = calculate_eigenvalues(matrix)\n",
        "print(\"Eigenvalues:\", eigenvalues)\n"
      ]
    }
  ]
}