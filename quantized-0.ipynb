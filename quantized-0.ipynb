{
  "nbformat": 4,
  "nbformat_minor": 0,
  "metadata": {
    "colab": {
      "provenance": [],
      "authorship_tag": "ABX9TyOrym9STiSN4exWLw7sjJKT",
      "include_colab_link": true
    },
    "kernelspec": {
      "name": "python3",
      "display_name": "Python 3"
    },
    "language_info": {
      "name": "python"
    }
  },
  "cells": [
    {
      "cell_type": "markdown",
      "metadata": {
        "id": "view-in-github",
        "colab_type": "text"
      },
      "source": [
        "<a href=\"https://colab.research.google.com/github/joepareti54/joepareti54/blob/main/quantized-0.ipynb\" target=\"_parent\"><img src=\"https://colab.research.google.com/assets/colab-badge.svg\" alt=\"Open In Colab\"/></a>"
      ]
    },
    {
      "cell_type": "code",
      "execution_count": 6,
      "metadata": {
        "id": "C8ARV_xLb5vT"
      },
      "outputs": [],
      "source": [
        "import torch\n",
        "import torch.nn as nn\n",
        "from torch.utils.data import Dataset\n",
        "from torch.utils.data import DataLoader\n",
        "\n",
        "class LinearRegressionDataset(Dataset):\n",
        "    def __init__(self):\n",
        "        self.x = torch.tensor([1.0, 2.0, 3.0]).view(-1, 1)\n",
        "        self.y = torch.tensor([2.0, 4.0, 6.0]).view(-1, 1)\n",
        "\n",
        "    def __len__(self):\n",
        "        return len(self.x)\n",
        "\n",
        "    def __getitem__(self, idx):\n",
        "        return (self.x[idx], self.y[idx])\n",
        "\n",
        "train_dataset = LinearRegressionDataset()\n",
        "train_loader = DataLoader(train_dataset, batch_size=2)\n",
        "\n",
        "class LinearRegression(nn.Module):\n",
        "    def __init__(self, input_dim, output_dim):\n",
        "        super(LinearRegression, self).__init__()\n",
        "        self.linear = nn.Linear(input_dim, output_dim)\n",
        "\n",
        "    def forward(self, x):\n",
        "        return self.linear(x)\n",
        "\n",
        "# Create the model\n",
        "model = LinearRegression(1, 1)\n",
        "\n",
        "# Create the optimizer\n",
        "optimizer = torch.optim.SGD(model.parameters(), lr=0.01)\n",
        "\n",
        "# Define the loss function\n",
        "loss_fn = nn.MSELoss()\n",
        "\n",
        "# Train the model without quantization\n",
        "for epoch in range(100):\n",
        "    for i, data in enumerate(train_loader):\n",
        "        inputs, labels = data\n",
        "        optimizer.zero_grad()\n",
        "        outputs = model(inputs)\n",
        "        loss = loss_fn(outputs, labels)\n",
        "        loss.backward()\n",
        "        optimizer.step()\n",
        "\n",
        "# Quantize the model\n",
        "quantizer = torch.quantization.quantize_dynamic(model, {torch.nn.Linear}, dtype=torch.qint8)\n",
        "quantized_model = quantizer.eval()\n",
        "\n",
        "# You can now use the quantized_model for inference\n",
        "# But you should not train it further\n",
        "\n"
      ]
    },
    {
      "cell_type": "code",
      "source": [
        "# Create a new data point\n",
        "new_data = torch.tensor([4.0]).view(-1, 1)\n",
        "\n",
        "# Use the quantized model to predict the output for the new data point\n",
        "with torch.no_grad():  # We don't need gradients for inference\n",
        "    prediction = quantized_model(new_data)\n",
        "\n",
        "print(\"The predicted output for the input 4.0 is:\", prediction.item())\n"
      ],
      "metadata": {
        "colab": {
          "base_uri": "https://localhost:8080/"
        },
        "id": "-uAxjwSTqvfa",
        "outputId": "e28d95da-00d3-41af-d34b-84c4342bfb39"
      },
      "execution_count": 7,
      "outputs": [
        {
          "output_type": "stream",
          "name": "stdout",
          "text": [
            "The predicted output for the input 4.0 is: 7.389178276062012\n"
          ]
        }
      ]
    },
    {
      "cell_type": "code",
      "source": [
        "import time\n",
        "\n",
        "# Create a new data point\n",
        "new_data = torch.tensor([4.0]).view(-1, 1)\n",
        "\n",
        "# Use the non-quantized model to predict the output for the new data point\n",
        "start_time = time.time()\n",
        "with torch.no_grad():  # We don't need gradients for inference\n",
        "    prediction = model(new_data)\n",
        "end_time = time.time()\n",
        "print(\"The predicted output for the input 4.0 using the non-quantized model is:\", prediction.item())\n",
        "print(\"Time taken for inference with non-quantized model:\", end_time - start_time)\n",
        "\n",
        "# Use the quantized model to predict the output for the new data point\n",
        "start_time = time.time()\n",
        "with torch.no_grad():  # We don't need gradients for inference\n",
        "    prediction = quantized_model(new_data)\n",
        "end_time = time.time()\n",
        "print(\"The predicted output for the input 4.0 using the quantized model is:\", prediction.item())\n",
        "print(\"Time taken for inference with quantized model:\", end_time - start_time)\n"
      ],
      "metadata": {
        "colab": {
          "base_uri": "https://localhost:8080/"
        },
        "id": "lgGs_lZirY-z",
        "outputId": "f3c4326f-1ede-4396-f91d-94460321bc9d"
      },
      "execution_count": 8,
      "outputs": [
        {
          "output_type": "stream",
          "name": "stdout",
          "text": [
            "The predicted output for the input 4.0 using the non-quantized model is: 7.41409158706665\n",
            "Time taken for inference with non-quantized model: 0.00041556358337402344\n",
            "The predicted output for the input 4.0 using the quantized model is: 7.389178276062012\n",
            "Time taken for inference with quantized model: 0.0005991458892822266\n"
          ]
        }
      ]
    },
    {
      "cell_type": "code",
      "source": [
        "import sys\n",
        "\n",
        "# Print the size of the non-quantized model\n",
        "print(\"Size of the non-quantized model: \", sys.getsizeof(model))\n",
        "\n",
        "# Print the size of the quantized model\n",
        "print(\"Size of the quantized model: \", sys.getsizeof(quantized_model))\n"
      ],
      "metadata": {
        "colab": {
          "base_uri": "https://localhost:8080/"
        },
        "id": "2P30kBYgrzMS",
        "outputId": "c55bd920-3d9f-40f1-a7d4-f005ed520d75"
      },
      "execution_count": 9,
      "outputs": [
        {
          "output_type": "stream",
          "name": "stdout",
          "text": [
            "Size of the non-quantized model:  48\n",
            "Size of the quantized model:  48\n"
          ]
        }
      ]
    },
    {
      "cell_type": "code",
      "source": [
        "def get_model_size(model):\n",
        "    size = sum(param.numel() for param in model.parameters())\n",
        "    return size\n",
        "\n",
        "# Print the size of the non-quantized model\n",
        "print(\"Size of the non-quantized model: \", get_model_size(model))\n",
        "\n",
        "# Print the size of the quantized model\n",
        "print(\"Size of the quantized model: \", get_model_size(quantized_model))\n"
      ],
      "metadata": {
        "colab": {
          "base_uri": "https://localhost:8080/"
        },
        "id": "SbbwpK-4sOiB",
        "outputId": "02b3c09a-3c2f-4003-e8ac-263750b94044"
      },
      "execution_count": 10,
      "outputs": [
        {
          "output_type": "stream",
          "name": "stdout",
          "text": [
            "Size of the non-quantized model:  2\n",
            "Size of the quantized model:  0\n"
          ]
        }
      ]
    }
  ]
}