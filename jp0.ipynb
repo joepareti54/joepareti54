{
  "cells": [
    {
      "cell_type": "markdown",
      "metadata": {
        "id": "view-in-github",
        "colab_type": "text"
      },
      "source": [
        "<a href=\"https://colab.research.google.com/github/joepareti54/joepareti54/blob/main/jp0.ipynb\" target=\"_parent\"><img src=\"https://colab.research.google.com/assets/colab-badge.svg\" alt=\"Open In Colab\"/></a>"
      ]
    },
    {
      "cell_type": "code",
      "execution_count": null,
      "id": "f8a585c3-a734-4f40-9808-f00f3a3671fa",
      "metadata": {
        "id": "f8a585c3-a734-4f40-9808-f00f3a3671fa",
        "outputId": "55dac436-740e-4999-b98f-cbe62202a27c"
      },
      "outputs": [
        {
          "data": {
            "text/plain": [
              "'/home/sagemaker-user'"
            ]
          },
          "execution_count": 1,
          "metadata": {},
          "output_type": "execute_result"
        }
      ],
      "source": [
        "%pwd"
      ]
    },
    {
      "cell_type": "code",
      "execution_count": null,
      "id": "70ec4845-953f-4f80-9d7d-0072c35838ca",
      "metadata": {
        "id": "70ec4845-953f-4f80-9d7d-0072c35838ca"
      },
      "outputs": [],
      "source": [
        "!conda install -y matplotlib\n"
      ]
    },
    {
      "cell_type": "code",
      "execution_count": null,
      "id": "11836e15-3f73-4b14-97d6-36f5a8754986",
      "metadata": {
        "id": "11836e15-3f73-4b14-97d6-36f5a8754986"
      },
      "outputs": [],
      "source": [
        "!pip install bedrock\n"
      ]
    },
    {
      "cell_type": "code",
      "execution_count": null,
      "id": "76cb9f92-00b9-4c1b-a457-de5f72001e06",
      "metadata": {
        "id": "76cb9f92-00b9-4c1b-a457-de5f72001e06"
      },
      "outputs": [],
      "source": [
        "import boto3\n",
        "import logging\n",
        "from botocore.exceptions import ClientError\n",
        "\n",
        "logger = logging.getLogger('botocore')\n",
        "logger.setLevel(logging.DEBUG)\n"
      ]
    },
    {
      "cell_type": "code",
      "execution_count": null,
      "id": "a7062228-8e52-4a23-ab6d-e0aff29a19b0",
      "metadata": {
        "id": "a7062228-8e52-4a23-ab6d-e0aff29a19b0",
        "outputId": "5c01e21a-ca35-4f4e-f896-e05b4da03a96"
      },
      "outputs": [
        {
          "ename": "ModuleNotFoundError",
          "evalue": "No module named 'utils'",
          "output_type": "error",
          "traceback": [
            "\u001b[0;31m---------------------------------------------------------------------------\u001b[0m",
            "\u001b[0;31mModuleNotFoundError\u001b[0m                       Traceback (most recent call last)",
            "Cell \u001b[0;32mIn[4], line 11\u001b[0m\n\u001b[1;32m      9\u001b[0m module_path \u001b[38;5;241m=\u001b[39m \u001b[38;5;124m\"\u001b[39m\u001b[38;5;124m..\u001b[39m\u001b[38;5;124m\"\u001b[39m\n\u001b[1;32m     10\u001b[0m sys\u001b[38;5;241m.\u001b[39mpath\u001b[38;5;241m.\u001b[39mappend(os\u001b[38;5;241m.\u001b[39mpath\u001b[38;5;241m.\u001b[39mabspath(module_path))\n\u001b[0;32m---> 11\u001b[0m \u001b[38;5;28;01mfrom\u001b[39;00m \u001b[38;5;21;01mutils\u001b[39;00m \u001b[38;5;28;01mimport\u001b[39;00m bedrock, print_ww\n\u001b[1;32m     14\u001b[0m \u001b[38;5;66;03m# ---- ⚠️ Un-comment and edit the below lines as needed for your AWS setup ⚠️ ----\u001b[39;00m\n\u001b[1;32m     15\u001b[0m \n\u001b[1;32m     16\u001b[0m \u001b[38;5;66;03m#os.environ[\"AWS_DEFAULT_REGION\"] = \"<REGION_NAME>\"  # E.g. \"us-east-1\"\u001b[39;00m\n\u001b[1;32m     17\u001b[0m \u001b[38;5;66;03m#os.environ[\"AWS_PROFILE\"] = \"<YOUR_PROFILE>\"\u001b[39;00m\n\u001b[1;32m     18\u001b[0m \u001b[38;5;66;03m#os.environ[\"BEDROCK_ASSUME_ROLE\"] = \"<YOUR_ROLE_ARN>\"  # E.g. \"arn:aws:...\"\u001b[39;00m\n\u001b[1;32m     19\u001b[0m os\u001b[38;5;241m.\u001b[39menviron[\u001b[38;5;124m\"\u001b[39m\u001b[38;5;124mAWS_DEFAULT_REGION\u001b[39m\u001b[38;5;124m\"\u001b[39m] \u001b[38;5;241m=\u001b[39m \u001b[38;5;124m\"\u001b[39m\u001b[38;5;124mus-east-1\u001b[39m\u001b[38;5;124m\"\u001b[39m\n",
            "\u001b[0;31mModuleNotFoundError\u001b[0m: No module named 'utils'"
          ]
        }
      ],
      "source": [
        "import json\n",
        "import os\n",
        "import sys\n",
        "\n",
        "#import boto3\n",
        "import botocore\n",
        "\n",
        "\n",
        "module_path = \"..\"\n",
        "sys.path.append(os.path.abspath(module_path))\n",
        "from utils import bedrock, print_ww\n",
        "\n",
        "\n",
        "# ---- ⚠️ Un-comment and edit the below lines as needed for your AWS setup ⚠️ ----\n",
        "\n",
        "#os.environ[\"AWS_DEFAULT_REGION\"] = \"<REGION_NAME>\"  # E.g. \"us-east-1\"\n",
        "#os.environ[\"AWS_PROFILE\"] = \"<YOUR_PROFILE>\"\n",
        "#os.environ[\"BEDROCK_ASSUME_ROLE\"] = \"<YOUR_ROLE_ARN>\"  # E.g. \"arn:aws:...\"\n",
        "os.environ[\"AWS_DEFAULT_REGION\"] = \"us-east-1\"\n",
        "os.environ[\"AWS_PROFILE\"] = \"default\"  # You can comment this out if running on SageMaker with an execution role\n",
        "os.environ[\"BEDROCK_ASSUME_ROLE\"] = \"arn:aws:iam::123456789012:role/YourRoleName\"  # Replace with your role ARN if needed\n",
        "\n",
        "boto3_bedrock = bedrock.get_bedrock_client(\n",
        "    assumed_role=os.environ.get(\"BEDROCK_ASSUME_ROLE\", None),\n",
        "    region=os.environ.get(\"AWS_DEFAULT_REGION\", None)\n",
        ")"
      ]
    }
  ],
  "metadata": {
    "kernelspec": {
      "display_name": "Python 3 (ipykernel)",
      "language": "python",
      "name": "python3"
    },
    "language_info": {
      "codemirror_mode": {
        "name": "ipython",
        "version": 3
      },
      "file_extension": ".py",
      "mimetype": "text/x-python",
      "name": "python",
      "nbconvert_exporter": "python",
      "pygments_lexer": "ipython3",
      "version": "3.10.13"
    },
    "colab": {
      "provenance": [],
      "include_colab_link": true
    }
  },
  "nbformat": 4,
  "nbformat_minor": 5
}