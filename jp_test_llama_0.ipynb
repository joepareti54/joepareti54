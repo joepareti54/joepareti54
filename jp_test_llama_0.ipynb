{
  "nbformat": 4,
  "nbformat_minor": 0,
  "metadata": {
    "colab": {
      "provenance": [],
      "authorship_tag": "ABX9TyO9Oe3EtQM6MHSeVVi7mvmh",
      "include_colab_link": true
    },
    "kernelspec": {
      "name": "python3",
      "display_name": "Python 3"
    },
    "language_info": {
      "name": "python"
    }
  },
  "cells": [
    {
      "cell_type": "markdown",
      "metadata": {
        "id": "view-in-github",
        "colab_type": "text"
      },
      "source": [
        "<a href=\"https://colab.research.google.com/github/joepareti54/joepareti54/blob/main/jp_test_llama_0.ipynb\" target=\"_parent\"><img src=\"https://colab.research.google.com/assets/colab-badge.svg\" alt=\"Open In Colab\"/></a>"
      ]
    },
    {
      "cell_type": "code",
      "execution_count": 1,
      "metadata": {
        "colab": {
          "base_uri": "https://localhost:8080/"
        },
        "id": "yiwC1_BsKbjV",
        "outputId": "7097a2b9-07ff-4678-f68d-368f50360654"
      },
      "outputs": [
        {
          "output_type": "stream",
          "name": "stdout",
          "text": [
            "Collecting replicate\n",
            "  Downloading replicate-0.25.1-py3-none-any.whl (39 kB)\n",
            "Collecting httpx<1,>=0.21.0 (from replicate)\n",
            "  Downloading httpx-0.27.0-py3-none-any.whl (75 kB)\n",
            "\u001b[2K     \u001b[90m━━━━━━━━━━━━━━━━━━━━━━━━━━━━━━━━━━━━━━━━\u001b[0m \u001b[32m75.6/75.6 kB\u001b[0m \u001b[31m3.9 MB/s\u001b[0m eta \u001b[36m0:00:00\u001b[0m\n",
            "\u001b[?25hRequirement already satisfied: packaging in /usr/local/lib/python3.10/dist-packages (from replicate) (24.0)\n",
            "Requirement already satisfied: pydantic>1.10.7 in /usr/local/lib/python3.10/dist-packages (from replicate) (2.6.4)\n",
            "Requirement already satisfied: typing-extensions>=4.5.0 in /usr/local/lib/python3.10/dist-packages (from replicate) (4.10.0)\n",
            "Requirement already satisfied: anyio in /usr/local/lib/python3.10/dist-packages (from httpx<1,>=0.21.0->replicate) (3.7.1)\n",
            "Requirement already satisfied: certifi in /usr/local/lib/python3.10/dist-packages (from httpx<1,>=0.21.0->replicate) (2024.2.2)\n",
            "Collecting httpcore==1.* (from httpx<1,>=0.21.0->replicate)\n",
            "  Downloading httpcore-1.0.5-py3-none-any.whl (77 kB)\n",
            "\u001b[2K     \u001b[90m━━━━━━━━━━━━━━━━━━━━━━━━━━━━━━━━━━━━━━━━\u001b[0m \u001b[32m77.9/77.9 kB\u001b[0m \u001b[31m6.7 MB/s\u001b[0m eta \u001b[36m0:00:00\u001b[0m\n",
            "\u001b[?25hRequirement already satisfied: idna in /usr/local/lib/python3.10/dist-packages (from httpx<1,>=0.21.0->replicate) (3.6)\n",
            "Requirement already satisfied: sniffio in /usr/local/lib/python3.10/dist-packages (from httpx<1,>=0.21.0->replicate) (1.3.1)\n",
            "Collecting h11<0.15,>=0.13 (from httpcore==1.*->httpx<1,>=0.21.0->replicate)\n",
            "  Downloading h11-0.14.0-py3-none-any.whl (58 kB)\n",
            "\u001b[2K     \u001b[90m━━━━━━━━━━━━━━━━━━━━━━━━━━━━━━━━━━━━━━━━\u001b[0m \u001b[32m58.3/58.3 kB\u001b[0m \u001b[31m5.6 MB/s\u001b[0m eta \u001b[36m0:00:00\u001b[0m\n",
            "\u001b[?25hRequirement already satisfied: annotated-types>=0.4.0 in /usr/local/lib/python3.10/dist-packages (from pydantic>1.10.7->replicate) (0.6.0)\n",
            "Requirement already satisfied: pydantic-core==2.16.3 in /usr/local/lib/python3.10/dist-packages (from pydantic>1.10.7->replicate) (2.16.3)\n",
            "Requirement already satisfied: exceptiongroup in /usr/local/lib/python3.10/dist-packages (from anyio->httpx<1,>=0.21.0->replicate) (1.2.0)\n",
            "Installing collected packages: h11, httpcore, httpx, replicate\n",
            "Successfully installed h11-0.14.0 httpcore-1.0.5 httpx-0.27.0 replicate-0.25.1\n"
          ]
        }
      ],
      "source": [
        "!pip install replicate"
      ]
    },
    {
      "cell_type": "code",
      "source": [
        "import os\n",
        "os.environ['REPLICATE_API_TOKEN'] = \"r8_PukHyR1PKKUzCJpyQdodF4ZWdqXVrCM0uBiLt\""
      ],
      "metadata": {
        "id": "U-a9-hd1XVnj"
      },
      "execution_count": 2,
      "outputs": []
    },
    {
      "cell_type": "code",
      "source": [
        "#\n",
        "replicate_api_token = os.environ.get('REPLICATE_API_TOKEN')\n",
        "print(replicate_api_token)"
      ],
      "metadata": {
        "colab": {
          "base_uri": "https://localhost:8080/"
        },
        "id": "Du9P-6LWK9J3",
        "outputId": "06e57f99-1bce-41a8-b79c-9ffa4e491245"
      },
      "execution_count": 3,
      "outputs": [
        {
          "output_type": "stream",
          "name": "stdout",
          "text": [
            "r8_PukHyR1PKKUzCJpyQdodF4ZWdqXVrCM0uBiLt\n"
          ]
        }
      ]
    },
    {
      "cell_type": "code",
      "source": [
        "import replicate  # Import the replicate library\n",
        "\n",
        "class LLM:\n",
        "    def __init__(self, model_name, replicate_api_token):\n",
        "        self.model_name = model_name\n",
        "        self.replicate_api_token = replicate_api_token\n",
        "#        self.replicate_api_token =\n",
        "\n",
        "    def generate(self, prompt):\n",
        "        # Directly set the API token before making the call\n",
        "        replicate.api_token = self.replicate_api_token\n",
        "\n",
        "        try:\n",
        "            # Execute the model run, which returns a generator\n",
        "            output_generator = replicate.run(\n",
        "                self.model_name,\n",
        "                input={\n",
        "                    \"prompt\": prompt,\n",
        "                    \"max_tokens\": 500  # Adjust based on your needs\n",
        "                }\n",
        "            )\n",
        "            # Initialize an empty string to collect the output\n",
        "            output_text = \"\"\n",
        "            # Iterate over the generator to concatenate the output\n",
        "            for part in output_generator:\n",
        "                output_text += part\n",
        "            return output_text\n",
        "        except Exception as e:\n",
        "            return f\"Error generating response: {e}\"\n",
        "\n",
        "# Correctly initialize your LLM instance with the API token\n",
        "#\n",
        "MODEL_IDENTIFIER = \"meta/llama-2-7b-chat:f1d50bb24186c52daae319ca8366e53debdaa9e0ae7ff976e918df752732ccc4\"\n",
        "#API_TOKEN = \"r8_PukHyR1PKKUzCJpyQdodF4ZWdqXVrCM0uBiLt\"  # Use your actual Replicate API token\n",
        "llm = LLM(model_name=MODEL_IDENTIFIER, replicate_api_token=replicate_api_token)\n",
        "\n",
        "# Example usage\n",
        "prompt = \"Please write a four line rhyming poem about spring.\"\n",
        "response = llm.generate(prompt)\n",
        "\n",
        "print(response)\n"
      ],
      "metadata": {
        "colab": {
          "base_uri": "https://localhost:8080/"
        },
        "id": "RFjeKVkGKefQ",
        "outputId": "7d750d7e-7017-4923-d017-7d459fcbbcf7"
      },
      "execution_count": 4,
      "outputs": [
        {
          "output_type": "stream",
          "name": "stdout",
          "text": [
            " Of course, I'd be happy to help you with that! Here's a four-line rhyming poem about spring:\n",
            "Spring is here, oh so bright,\n",
            "A time of growth, a time of light.\n",
            "The flowers bloom, the birds sing,\n",
            "A new beginning, a joyful thing.\n"
          ]
        }
      ]
    }
  ]
}