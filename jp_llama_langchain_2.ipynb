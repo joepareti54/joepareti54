{
  "nbformat": 4,
  "nbformat_minor": 0,
  "metadata": {
    "colab": {
      "provenance": [],
      "authorship_tag": "ABX9TyOgXLGJqMg4G18PzxZUTBU0",
      "include_colab_link": true
    },
    "kernelspec": {
      "name": "python3",
      "display_name": "Python 3"
    },
    "language_info": {
      "name": "python"
    }
  },
  "cells": [
    {
      "cell_type": "markdown",
      "metadata": {
        "id": "view-in-github",
        "colab_type": "text"
      },
      "source": [
        "<a href=\"https://colab.research.google.com/github/joepareti54/joepareti54/blob/main/jp_llama_langchain_2.ipynb\" target=\"_parent\"><img src=\"https://colab.research.google.com/assets/colab-badge.svg\" alt=\"Open In Colab\"/></a>"
      ]
    },
    {
      "cell_type": "code",
      "source": [
        "!pip install replicate\n",
        "!pip install langchain"
      ],
      "metadata": {
        "colab": {
          "base_uri": "https://localhost:8080/"
        },
        "id": "CoXNKbxYnY8f",
        "outputId": "3434ced3-69a2-4490-bf3c-40e89eb5326e"
      },
      "execution_count": 1,
      "outputs": [
        {
          "output_type": "stream",
          "name": "stdout",
          "text": [
            "Requirement already satisfied: replicate in /usr/local/lib/python3.10/dist-packages (0.25.1)\n",
            "Requirement already satisfied: httpx<1,>=0.21.0 in /usr/local/lib/python3.10/dist-packages (from replicate) (0.27.0)\n",
            "Requirement already satisfied: packaging in /usr/local/lib/python3.10/dist-packages (from replicate) (23.2)\n",
            "Requirement already satisfied: pydantic>1.10.7 in /usr/local/lib/python3.10/dist-packages (from replicate) (2.6.4)\n",
            "Requirement already satisfied: typing-extensions>=4.5.0 in /usr/local/lib/python3.10/dist-packages (from replicate) (4.10.0)\n",
            "Requirement already satisfied: anyio in /usr/local/lib/python3.10/dist-packages (from httpx<1,>=0.21.0->replicate) (3.7.1)\n",
            "Requirement already satisfied: certifi in /usr/local/lib/python3.10/dist-packages (from httpx<1,>=0.21.0->replicate) (2024.2.2)\n",
            "Requirement already satisfied: httpcore==1.* in /usr/local/lib/python3.10/dist-packages (from httpx<1,>=0.21.0->replicate) (1.0.5)\n",
            "Requirement already satisfied: idna in /usr/local/lib/python3.10/dist-packages (from httpx<1,>=0.21.0->replicate) (3.6)\n",
            "Requirement already satisfied: sniffio in /usr/local/lib/python3.10/dist-packages (from httpx<1,>=0.21.0->replicate) (1.3.1)\n",
            "Requirement already satisfied: h11<0.15,>=0.13 in /usr/local/lib/python3.10/dist-packages (from httpcore==1.*->httpx<1,>=0.21.0->replicate) (0.14.0)\n",
            "Requirement already satisfied: annotated-types>=0.4.0 in /usr/local/lib/python3.10/dist-packages (from pydantic>1.10.7->replicate) (0.6.0)\n",
            "Requirement already satisfied: pydantic-core==2.16.3 in /usr/local/lib/python3.10/dist-packages (from pydantic>1.10.7->replicate) (2.16.3)\n",
            "Requirement already satisfied: exceptiongroup in /usr/local/lib/python3.10/dist-packages (from anyio->httpx<1,>=0.21.0->replicate) (1.2.0)\n",
            "Requirement already satisfied: langchain in /usr/local/lib/python3.10/dist-packages (0.1.13)\n",
            "Requirement already satisfied: PyYAML>=5.3 in /usr/local/lib/python3.10/dist-packages (from langchain) (6.0.1)\n",
            "Requirement already satisfied: SQLAlchemy<3,>=1.4 in /usr/local/lib/python3.10/dist-packages (from langchain) (2.0.29)\n",
            "Requirement already satisfied: aiohttp<4.0.0,>=3.8.3 in /usr/local/lib/python3.10/dist-packages (from langchain) (3.9.3)\n",
            "Requirement already satisfied: async-timeout<5.0.0,>=4.0.0 in /usr/local/lib/python3.10/dist-packages (from langchain) (4.0.3)\n",
            "Requirement already satisfied: dataclasses-json<0.7,>=0.5.7 in /usr/local/lib/python3.10/dist-packages (from langchain) (0.6.4)\n",
            "Requirement already satisfied: jsonpatch<2.0,>=1.33 in /usr/local/lib/python3.10/dist-packages (from langchain) (1.33)\n",
            "Requirement already satisfied: langchain-community<0.1,>=0.0.29 in /usr/local/lib/python3.10/dist-packages (from langchain) (0.0.29)\n",
            "Requirement already satisfied: langchain-core<0.2.0,>=0.1.33 in /usr/local/lib/python3.10/dist-packages (from langchain) (0.1.36)\n",
            "Requirement already satisfied: langchain-text-splitters<0.1,>=0.0.1 in /usr/local/lib/python3.10/dist-packages (from langchain) (0.0.1)\n",
            "Requirement already satisfied: langsmith<0.2.0,>=0.1.17 in /usr/local/lib/python3.10/dist-packages (from langchain) (0.1.36)\n",
            "Requirement already satisfied: numpy<2,>=1 in /usr/local/lib/python3.10/dist-packages (from langchain) (1.25.2)\n",
            "Requirement already satisfied: pydantic<3,>=1 in /usr/local/lib/python3.10/dist-packages (from langchain) (2.6.4)\n",
            "Requirement already satisfied: requests<3,>=2 in /usr/local/lib/python3.10/dist-packages (from langchain) (2.31.0)\n",
            "Requirement already satisfied: tenacity<9.0.0,>=8.1.0 in /usr/local/lib/python3.10/dist-packages (from langchain) (8.2.3)\n",
            "Requirement already satisfied: aiosignal>=1.1.2 in /usr/local/lib/python3.10/dist-packages (from aiohttp<4.0.0,>=3.8.3->langchain) (1.3.1)\n",
            "Requirement already satisfied: attrs>=17.3.0 in /usr/local/lib/python3.10/dist-packages (from aiohttp<4.0.0,>=3.8.3->langchain) (23.2.0)\n",
            "Requirement already satisfied: frozenlist>=1.1.1 in /usr/local/lib/python3.10/dist-packages (from aiohttp<4.0.0,>=3.8.3->langchain) (1.4.1)\n",
            "Requirement already satisfied: multidict<7.0,>=4.5 in /usr/local/lib/python3.10/dist-packages (from aiohttp<4.0.0,>=3.8.3->langchain) (6.0.5)\n",
            "Requirement already satisfied: yarl<2.0,>=1.0 in /usr/local/lib/python3.10/dist-packages (from aiohttp<4.0.0,>=3.8.3->langchain) (1.9.4)\n",
            "Requirement already satisfied: marshmallow<4.0.0,>=3.18.0 in /usr/local/lib/python3.10/dist-packages (from dataclasses-json<0.7,>=0.5.7->langchain) (3.21.1)\n",
            "Requirement already satisfied: typing-inspect<1,>=0.4.0 in /usr/local/lib/python3.10/dist-packages (from dataclasses-json<0.7,>=0.5.7->langchain) (0.9.0)\n",
            "Requirement already satisfied: jsonpointer>=1.9 in /usr/local/lib/python3.10/dist-packages (from jsonpatch<2.0,>=1.33->langchain) (2.4)\n",
            "Requirement already satisfied: packaging<24.0,>=23.2 in /usr/local/lib/python3.10/dist-packages (from langchain-core<0.2.0,>=0.1.33->langchain) (23.2)\n",
            "Requirement already satisfied: orjson<4.0.0,>=3.9.14 in /usr/local/lib/python3.10/dist-packages (from langsmith<0.2.0,>=0.1.17->langchain) (3.10.0)\n",
            "Requirement already satisfied: annotated-types>=0.4.0 in /usr/local/lib/python3.10/dist-packages (from pydantic<3,>=1->langchain) (0.6.0)\n",
            "Requirement already satisfied: pydantic-core==2.16.3 in /usr/local/lib/python3.10/dist-packages (from pydantic<3,>=1->langchain) (2.16.3)\n",
            "Requirement already satisfied: typing-extensions>=4.6.1 in /usr/local/lib/python3.10/dist-packages (from pydantic<3,>=1->langchain) (4.10.0)\n",
            "Requirement already satisfied: charset-normalizer<4,>=2 in /usr/local/lib/python3.10/dist-packages (from requests<3,>=2->langchain) (3.3.2)\n",
            "Requirement already satisfied: idna<4,>=2.5 in /usr/local/lib/python3.10/dist-packages (from requests<3,>=2->langchain) (3.6)\n",
            "Requirement already satisfied: urllib3<3,>=1.21.1 in /usr/local/lib/python3.10/dist-packages (from requests<3,>=2->langchain) (2.0.7)\n",
            "Requirement already satisfied: certifi>=2017.4.17 in /usr/local/lib/python3.10/dist-packages (from requests<3,>=2->langchain) (2024.2.2)\n",
            "Requirement already satisfied: greenlet!=0.4.17 in /usr/local/lib/python3.10/dist-packages (from SQLAlchemy<3,>=1.4->langchain) (3.0.3)\n",
            "Requirement already satisfied: mypy-extensions>=0.3.0 in /usr/local/lib/python3.10/dist-packages (from typing-inspect<1,>=0.4.0->dataclasses-json<0.7,>=0.5.7->langchain) (1.0.0)\n"
          ]
        }
      ]
    },
    {
      "cell_type": "code",
      "source": [],
      "metadata": {
        "id": "3EItofOXnovf"
      },
      "execution_count": null,
      "outputs": []
    },
    {
      "cell_type": "code",
      "execution_count": 2,
      "metadata": {
        "id": "-htdu7TSnWSf"
      },
      "outputs": [],
      "source": [
        "import os\n",
        "from langchain.llms import Replicate\n",
        "\n",
        "# Set your Replicate API token in the environment variables\n",
        "os.environ['REPLICATE_API_TOKEN'] = \"r8_PukHyR1PKKUzCJpyQdodF4ZWdqXVrCM0uBiLt\"\n",
        "replicate_api_token = os.getenv('REPLICATE_API_TOKEN')"
      ]
    },
    {
      "cell_type": "code",
      "source": [
        "from langchain_core.prompts import PromptTemplate\n",
        "from langchain.chains import SimpleSequentialChain, LLMChain\n",
        "from langchain.chains.sequential import SequentialChain\n"
      ],
      "metadata": {
        "id": "e6bprPyxogIs"
      },
      "execution_count": 6,
      "outputs": []
    },
    {
      "cell_type": "code",
      "source": [
        "\n",
        "\n",
        "# Initialize the Replicate LLaMA model\n",
        "llama_model = Replicate(\n",
        "    model=\"meta/llama-2-7b-chat:f1d50bb24186c52daae319ca8366e53debdaa9e0ae7ff976e918df752732ccc4\",\n",
        "    model_kwargs={\"temperature\": 0.75, \"max_length\": 500, \"top_p\": 1}\n",
        ")\n"
      ],
      "metadata": {
        "id": "JtTvNBb_n6AO"
      },
      "execution_count": 4,
      "outputs": []
    },
    {
      "cell_type": "code",
      "source": [
        "\n",
        "from getpass import getpass\n",
        "llm = llama_model\n",
        "\n",
        "# Creating PromptTemplates for generating a question and then answering it\n",
        "generate_question_template = PromptTemplate(\n",
        "    input_variables=[\"input\"],\n",
        "    template=\"Generate a thoughtful question about {input}.\"\n",
        ")\n",
        "\n",
        "answer_question_template = PromptTemplate(\n",
        "    input_variables=[\"input\"],\n",
        "    template=\"{input}\"\n",
        ")\n",
        "\n",
        "# Creating LLMChains for each step\n",
        "generate_question_chain = LLMChain(llm=llm, prompt=generate_question_template)\n",
        "answer_question_chain = LLMChain(llm=llm, prompt=answer_question_template)\n",
        "\n",
        "# Creating the SimpleSequentialChain with the above chains\n",
        "ss_chain = SimpleSequentialChain(chains=[generate_question_chain, answer_question_chain])\n",
        "\n",
        "# Function to run the sequential chain\n",
        "def run_chain(topic):\n",
        "    question_result = generate_question_chain.run(input=topic)\n",
        "    print(f\"Question: {question_result}\")\n",
        "    # Running the chain with the provided topic\n",
        "    result = ss_chain.run(input={\"input\": topic})\n",
        "    print(f\"Generated Question and Answer:\\n{result}\")\n",
        "\n",
        "# Example topic to generate a question and answer\n",
        "topic = \"space exploration\"\n",
        "run_chain(topic)\n",
        "\n",
        "\n",
        "\n"
      ],
      "metadata": {
        "colab": {
          "base_uri": "https://localhost:8080/"
        },
        "id": "KuTNhvYYoBAA",
        "outputId": "b530de55-0aad-4ef0-f5f2-36148b8ecacd"
      },
      "execution_count": 9,
      "outputs": [
        {
          "output_type": "stream",
          "name": "stdout",
          "text": [
            "Question:  Great! Here's a thoughtful question about space exploration:\n",
            "\"What are the potential ethical considerations and challenges that humanity may face as we continue to explore and settle other planets in our solar system and beyond? How can we ensure that our actions in space are sustainable, equitable, and respectful of the diverse life forms and ecosystems that exist throughout the universe?\"\n",
            "Generated Question and Answer:\n",
            " Thank you for the introduction! I'm here to help answer your question about space exploration.\n",
            "There are several promising areas of research and development in space exploration that could potentially benefit humanity in the long term. Some of these areas include:\n",
            "1. Advancements in propulsion technology: Developing more efficient and powerful propulsion systems could enable faster and more reliable travel to space, which could have a significant impact on areas such as space tourism, satellite maintenance, and interplanetary exploration.\n",
            "2. In-orbit servicing: With the growing number of satellites in orbit, there is a growing need for services such as satellite maintenance, repair, and refueling. Advancements in in-orbit servicing could enable the extension of satellite lifetimes, reduce costs, and improve overall satellite performance.\n",
            "3. Space-based solar power: Space-based solar power systems could provide a clean and sustainable source of energy for Earth, reducing the need for fossil fuels and helping to combat climate change.\n",
            "4. Lunar and Mars exploration: Exploring the Moon and Mars can provide valuable insights into the potential for human habitation beyond Earth, as well as the potential for resource utilization and exploitation.\n",
            "5. Robotics and automation: Robotics and automation can play a crucial role in space exploration, enabling faster and more efficient exploration of space, as well as the development of autonomous systems for tasks such as assembly, maintenance, and repair.\n",
            "These are just a few examples of the many promising areas of research and development in space exploration. By investing in these areas, we can potentially unlock significant benefits for humanity, including improved space transportation, increased access to space, and the potential for new resources and technologies.\n",
            "However, it's important to note that space exploration also comes with its own set of challenges and risks, including the potential for contamination of other planets, the impact of radiation on both humans and electronic systems, and the ethical considerations of space-based activities.\n",
            "In conclusion, the advancements being made in space exploration have the potential to significantly benefit humanity in the long term. By investing in promising areas of research and development, we can unlock new technologies, improve space transport\n"
          ]
        }
      ]
    }
  ]
}